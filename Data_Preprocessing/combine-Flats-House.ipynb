{
 "cells": [
  {
   "cell_type": "code",
   "execution_count": 1,
   "id": "a2980587",
   "metadata": {},
   "outputs": [],
   "source": [
    "import pandas as pd"
   ]
  },
  {
   "cell_type": "code",
   "execution_count": null,
   "id": "c7fbc94f",
   "metadata": {},
   "outputs": [],
   "source": [
    "pd.set_option('display.max_columns',None)\n",
    "pd.set_option('display.max_rows',None)"
   ]
  },
  {
   "cell_type": "code",
   "execution_count": null,
   "id": "f15e4928",
   "metadata": {},
   "outputs": [],
   "source": [
    "h = pd.read_csv(r'C:\\Users\\Data_Gathering\\Data\\Ahmedabad\\Independent House\\combined_house_ahmedabad.csv')\n",
    "h"
   ]
  },
  {
   "cell_type": "code",
   "execution_count": null,
   "id": "c5d789f7",
   "metadata": {},
   "outputs": [],
   "source": [
    "with open(r'C:\\Users\\Data_Gathering\\Data\\Ahmedabad\\Flats\\combined_flats_ahmedabad.csv', \n",
    "          mode='r', encoding='utf-8', errors='ignore') as f:\n",
    "    F = pd.read_csv(f)\n",
    "F"
   ]
  },
  {
   "cell_type": "code",
   "execution_count": null,
   "id": "6d6161f4",
   "metadata": {},
   "outputs": [],
   "source": [
    "df = pd.concat([F,h],ignore_index= True)\n",
    "df.tail()"
   ]
  },
  {
   "cell_type": "code",
   "execution_count": null,
   "id": "232f8419",
   "metadata": {},
   "outputs": [],
   "source": [
    "df = df.sample(df.shape[0],ignore_index=True) # It randomizes the row order of the DataFrame and resets the index cleanly.\n",
    "df"
   ]
  },
  {
   "cell_type": "code",
   "execution_count": null,
   "id": "70db2194",
   "metadata": {},
   "outputs": [],
   "source": [
    "df.to_csv('Ahmedabad_Flat_house.csv', index = False)"
   ]
  },
  {
   "cell_type": "code",
   "execution_count": null,
   "id": "e1a728a1",
   "metadata": {},
   "outputs": [],
   "source": [
    "df"
   ]
  },
  {
   "cell_type": "code",
   "execution_count": null,
   "id": "0ec75634",
   "metadata": {},
   "outputs": [],
   "source": [
    "df.shape"
   ]
  },
  {
   "cell_type": "code",
   "execution_count": null,
   "id": "7f8f8b0e",
   "metadata": {},
   "outputs": [],
   "source": [
    "df.info()"
   ]
  }
 ],
 "metadata": {
  "kernelspec": {
   "display_name": "Python 3",
   "language": "python",
   "name": "python3"
  },
  "language_info": {
   "codemirror_mode": {
    "name": "ipython",
    "version": 3
   },
   "file_extension": ".py",
   "mimetype": "text/x-python",
   "name": "python",
   "nbconvert_exporter": "python",
   "pygments_lexer": "ipython3",
   "version": "3.12.6"
  }
 },
 "nbformat": 4,
 "nbformat_minor": 5
}
